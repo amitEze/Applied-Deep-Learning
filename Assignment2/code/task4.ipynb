{
 "cells": [
  {
   "cell_type": "code",
   "execution_count": 1,
   "metadata": {},
   "outputs": [
    {
     "name": "stderr",
     "output_type": "stream",
     "text": [
      "c:\\Users\\ezer6\\anaconda3\\envs\\adl\\lib\\site-packages\\tqdm\\auto.py:21: TqdmWarning: IProgress not found. Please update jupyter and ipywidgets. See https://ipywidgets.readthedocs.io/en/stable/user_install.html\n",
      "  from .autonotebook import tqdm as notebook_tqdm\n"
     ]
    }
   ],
   "source": [
    "import torch\n",
    "import torch.nn as nn\n",
    "import torchvision\n",
    "import torchvision.transforms as transforms\n",
    "import matplotlib.pyplot as plt\n",
    "import numpy as np\n",
    "from methods import load_data, NeuralNet, loader_eval, load_data_with_validation"
   ]
  },
  {
   "cell_type": "code",
   "execution_count": 2,
   "metadata": {},
   "outputs": [],
   "source": [
    "# Setup device\n",
    "device = torch.device('cuda' if torch.cuda.is_available() else 'cpu')\n",
    "\n",
    "# Hyperparameters\n",
    "input_size = 784\n",
    "hidden_size = 500\n",
    "num_classes = 10\n",
    "num_epochs = 5\n",
    "batch_size = 100\n",
    "learning_rate = 0.001"
   ]
  },
  {
   "cell_type": "code",
   "execution_count": 3,
   "metadata": {},
   "outputs": [],
   "source": [
    "def train_model(model, train_loader, test_loader, val_loader, num_epochs=5):\n",
    "    criterion = nn.CrossEntropyLoss()\n",
    "    optimizer = torch.optim.Adam(model.parameters(), lr=learning_rate)\n",
    "\n",
    "    # Train the model\n",
    "    train_loss_per_epoch = []\n",
    "    test_loss_per_epoch = []\n",
    "    val_loss_per_epoch = []\n",
    "    for epoch in range(num_epochs):\n",
    "        # Train\n",
    "        train_loss = 0\n",
    "        for i, (images, labels) in enumerate(train_loader):\n",
    "            images = images.reshape(-1, input_size).to(device)\n",
    "            labels = labels.to(device)\n",
    "\n",
    "            outputs = model(images)\n",
    "            loss = criterion(outputs, labels)\n",
    "\n",
    "            optimizer.zero_grad()\n",
    "            loss.backward()\n",
    "            optimizer.step()\n",
    "\n",
    "            train_loss += loss.item()\n",
    "\n",
    "        train_loss /= len(train_loader)\n",
    "        train_loss_per_epoch.append(train_loss)\n",
    "        \n",
    "        # Validate\n",
    "        val_loss = loader_eval(val_loader, model, criterion)\n",
    "        val_loss_per_epoch.append(val_loss)\n",
    "\n",
    "        # Test\n",
    "        test_loss = loader_eval(test_loader, model, criterion)\n",
    "        test_loss_per_epoch.append(test_loss)\n",
    "        \n",
    "    train_loss_per_epoch = np.array(train_loss_per_epoch)\n",
    "    test_loss_per_epoch = np.array(test_loss_per_epoch)\n",
    "    val_loss_per_epoch = np.array(val_loss_per_epoch)\n",
    "    \n",
    "    return train_loss_per_epoch, test_loss_per_epoch, val_loss_per_epoch  "
   ]
  },
  {
   "cell_type": "code",
   "execution_count": 4,
   "metadata": {},
   "outputs": [],
   "source": [
    "def grid_search(hidden_sizes=[hidden_size], batch_sizes=[batch_size], learning_rates=[learning_rate], num_epochs=5):\n",
    "    \n",
    "    paramaters_loss = {}\n",
    "    iter = 0\n",
    "\n",
    "    for b_size in batch_sizes:\n",
    "            train_loader, test_loader, val_loader = load_data_with_validation(batch_size=b_size)\n",
    "            \n",
    "            for h_size in hidden_sizes:\n",
    "                \n",
    "                for l_rate in learning_rates:\n",
    "                    model = NeuralNet(input_size, hidden_size, num_classes).to(device)\n",
    "                    paramaters_loss[(b_size, h_size, l_rate)] = train_model(model, train_loader, test_loader,\n",
    "                                                                                        val_loader)[1:] #only val,test loss\n",
    "                    iter +=1\n",
    "                    print(f'iterations : {iter}')\n",
    "    return paramaters_loss"
   ]
  },
  {
   "cell_type": "code",
   "execution_count": 5,
   "metadata": {},
   "outputs": [],
   "source": [
    "hidden_sizes = [400, 500, 600]\n",
    "batch_sizes = [100, 200, 300]\n",
    "learning_rates = [0.01, 0.001]"
   ]
  },
  {
   "cell_type": "code",
   "execution_count": 6,
   "metadata": {},
   "outputs": [
    {
     "name": "stdout",
     "output_type": "stream",
     "text": [
      "iterations : 1\n",
      "iterations : 2\n",
      "iterations : 3\n",
      "iterations : 4\n",
      "iterations : 5\n",
      "iterations : 6\n",
      "iterations : 7\n",
      "iterations : 8\n",
      "iterations : 9\n",
      "iterations : 10\n",
      "iterations : 11\n",
      "iterations : 12\n",
      "iterations : 13\n",
      "iterations : 14\n",
      "iterations : 15\n",
      "iterations : 16\n",
      "iterations : 17\n",
      "iterations : 18\n"
     ]
    }
   ],
   "source": [
    "parameters_loss = grid_search(hidden_sizes, batch_sizes, learning_rates)"
   ]
  },
  {
   "cell_type": "code",
   "execution_count": 7,
   "metadata": {},
   "outputs": [],
   "source": [
    "def min_validation_loss(test_loss, val_loss):\n",
    "    min_index = np.argmin(val_loss)\n",
    "    return test_loss[min_index], val_loss[min_index]"
   ]
  },
  {
   "cell_type": "code",
   "execution_count": 8,
   "metadata": {},
   "outputs": [],
   "source": [
    "# create csv file with errors for each combination\n",
    "import csv \n",
    "\n",
    "s_grid = []\n",
    "fields = ['Batch Size', 'Hidden Size', 'Learning Rate', 'Best validation loss', 'Test error for same epoch']\n",
    "for key in parameters_loss.keys():\n",
    "    b_size, h_size, l_rate = key\n",
    "    test_loss, val_loss = parameters_loss[key]\n",
    "    test_loss, val_loss = min_validation_loss(test_loss, val_loss)\n",
    "    s_grid.append({'Batch Size':str(b_size),\n",
    "                   'Hidden Size':str(h_size),\n",
    "                   'Learning Rate': str(l_rate),\n",
    "                   'Best validation loss': str(val_loss),\n",
    "                   'Test error for same epoch':str(test_loss)})\n",
    "\n",
    "# writing to the CSV file\n",
    "with open('search grid.csv', 'w', newline='') as csvfile:\n",
    "    # creating a csv dict writer object\n",
    "    writer = csv.DictWriter(csvfile, fieldnames=fields)\n",
    "    \n",
    "    # writing headers (field names)\n",
    "    writer.writeheader()\n",
    "    \n",
    "    # writing rows (dictionary values)\n",
    "    for row in s_grid:\n",
    "        writer.writerow(row)"
   ]
  }
 ],
 "metadata": {
  "kernelspec": {
   "display_name": "adl",
   "language": "python",
   "name": "python3"
  },
  "language_info": {
   "codemirror_mode": {
    "name": "ipython",
    "version": 3
   },
   "file_extension": ".py",
   "mimetype": "text/x-python",
   "name": "python",
   "nbconvert_exporter": "python",
   "pygments_lexer": "ipython3",
   "version": "3.9.16"
  },
  "orig_nbformat": 4
 },
 "nbformat": 4,
 "nbformat_minor": 2
}
