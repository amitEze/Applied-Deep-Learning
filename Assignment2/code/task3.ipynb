{
 "cells": [
  {
   "cell_type": "code",
   "execution_count": 2,
   "metadata": {},
   "outputs": [],
   "source": [
    "import torch\n",
    "import torch.nn as nn\n",
    "import torchvision\n",
    "import torchvision.transforms as transforms\n",
    "import matplotlib.pyplot as plt\n",
    "import numpy as np\n",
    "from methods import load_data, NeuralNet, loader_eval, load_data_with_validation"
   ]
  },
  {
   "cell_type": "code",
   "execution_count": 3,
   "metadata": {},
   "outputs": [],
   "source": [
    "# Setup device\n",
    "device = torch.device('cuda' if torch.cuda.is_available() else 'cpu')\n",
    "\n",
    "# Hyperparameters\n",
    "input_size = 784\n",
    "hidden_size = 500\n",
    "num_classes = 10\n",
    "num_epochs = 5\n",
    "batch_size = 100\n",
    "learning_rate = 0.001"
   ]
  },
  {
   "cell_type": "code",
   "execution_count": 4,
   "metadata": {},
   "outputs": [],
   "source": [
    "val_errors_per_seed = []\n",
    "test_errors_per_seed = []\n",
    "\n",
    "for seed in [0, 1, 2, 3, 4]:\n",
    "    torch.manual_seed(seed)\n",
    "    train_loader, test_loader, validation_loader = load_data_with_validation()\n",
    "    val_errors = []\n",
    "    test_errors = []\n",
    "    \n",
    "    # Fully connected neural network\n",
    "    model = NeuralNet(input_size, hidden_size, num_classes).to(device)\n",
    "\n",
    "    criterion = nn.CrossEntropyLoss()\n",
    "    optimizer = torch.optim.Adam(model.parameters(), lr=learning_rate)\n",
    "    \n",
    "    # Train the model\n",
    "    for epoch in range(num_epochs):\n",
    "        # Train the model\n",
    "        for i, (images, labels) in enumerate(train_loader):\n",
    "            images = images.reshape(-1, input_size).to(device)\n",
    "            labels = labels.to(device)\n",
    "\n",
    "            outputs = model(images)\n",
    "            loss = criterion(outputs, labels)\n",
    "\n",
    "            optimizer.zero_grad()\n",
    "            loss.backward()\n",
    "            optimizer.step()\n",
    "        \n",
    "        # Validation eval\n",
    "        val_loss = loader_eval(validation_loader,model, criterion)\n",
    "        val_errors.append(val_loss)\n",
    "\n",
    "        \n",
    "        # Test eval\n",
    "        test_loss = loader_eval(test_loader, model, criterion)\n",
    "        test_errors.append(test_loss)\n",
    "        \n",
    "    val_errors_per_seed.append(val_errors)\n",
    "    test_errors_per_seed.append(test_errors)"
   ]
  },
  {
   "attachments": {},
   "cell_type": "markdown",
   "metadata": {},
   "source": [
    "find best validation error"
   ]
  },
  {
   "cell_type": "code",
   "execution_count": 5,
   "metadata": {},
   "outputs": [],
   "source": [
    "val_errors_per_seed = np.array(val_errors_per_seed)\n",
    "test_errors_per_seed = np.array(test_errors_per_seed)"
   ]
  },
  {
   "cell_type": "code",
   "execution_count": 6,
   "metadata": {},
   "outputs": [],
   "source": [
    "min_validation_error = np.min(val_errors_per_seed)\n",
    "min_val_error_idx = np.where(val_errors_per_seed == min_validation_error)\n",
    "i, j = min_val_error_idx\n",
    "min_pair = [min_validation_error, test_errors_per_seed[i[0]][j[0]]]"
   ]
  },
  {
   "cell_type": "code",
   "execution_count": 7,
   "metadata": {},
   "outputs": [
    {
     "name": "stdout",
     "output_type": "stream",
     "text": [
      "minimum pair [0.10306332632899284, 0.2823956326271097]\n"
     ]
    }
   ],
   "source": [
    "print(f'minimum pair {min_pair}')"
   ]
  }
 ],
 "metadata": {
  "kernelspec": {
   "display_name": "adl",
   "language": "python",
   "name": "python3"
  },
  "language_info": {
   "codemirror_mode": {
    "name": "ipython",
    "version": 3
   },
   "file_extension": ".py",
   "mimetype": "text/x-python",
   "name": "python",
   "nbconvert_exporter": "python",
   "pygments_lexer": "ipython3",
   "version": "3.9.16"
  },
  "orig_nbformat": 4
 },
 "nbformat": 4,
 "nbformat_minor": 2
}
